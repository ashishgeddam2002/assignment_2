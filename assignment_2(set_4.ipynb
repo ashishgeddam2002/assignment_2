{
  "nbformat": 4,
  "nbformat_minor": 0,
  "metadata": {
    "colab": {
      "provenance": [],
      "authorship_tag": "ABX9TyMOsrUdOvg3OMMetOkTQYrE",
      "include_colab_link": true
    },
    "kernelspec": {
      "name": "python3",
      "display_name": "Python 3"
    },
    "language_info": {
      "name": "python"
    }
  },
  "cells": [
    {
      "cell_type": "markdown",
      "metadata": {
        "id": "view-in-github",
        "colab_type": "text"
      },
      "source": [
        "<a href=\"https://colab.research.google.com/github/ashishgeddam2002/assignment_2/blob/main/assignment_2(set_4.ipynb\" target=\"_parent\"><img src=\"https://colab.research.google.com/assets/colab-badge.svg\" alt=\"Open In Colab\"/></a>"
      ]
    },
    {
      "cell_type": "markdown",
      "source": [
        "Q1) (1)Are nearly normal?\n",
        "Plot 1 and Plot 3 suggest that the data is nearly normal.\n",
        "\n",
        " (2). Have a bimodal distribution?\n",
        "\n",
        "None of the plots show a bimodal distribution.\n",
        "\n",
        "(3) Are skewed (i.e. not symmetric)?\n",
        "\n",
        "Plot 2 appears to be skewed towards the right, indicating positive skewness.\n",
        "\n",
        "(4)Have outliers on both sides of the center?\n",
        "\n",
        "Plot 4 shows potential outliers on both the lower and upper ends of the distribution. However, Plot 2 also shows a potential outlier on the lower end of the distribution, while Plot 3 shows a potential outlier on the upper end.\n",
        "\n",
        "\n",
        "\n",
        "\n",
        "\n"
      ],
      "metadata": {
        "id": "gby1DBUn3rJk"
      }
    },
    {
      "cell_type": "markdown",
      "source": [
        "Q2)(a)True.\n",
        "\n",
        "The sampling distribution of the sample mean follows a normal distribution if the population is normally distributed (i.e., bell-shaped curve) or if the sample size is large enough.\n",
        "\n",
        "(b)False. The standard error of the daily average, denoted as SE(), would not typically be a single value like \"1.\" The standard error of the mean (SEM) is calculated as the population standard deviation (σ) divided by the square root of the sample size (n).\n",
        "\n",
        " The standard error of the daily average is indeed 1 pound. However, this value is not always the case and would vary depending on the population standard deviation and the sample size. Therefore, the statement is not universally true, and it would be more accurate to specify the context in which it applies."
      ],
      "metadata": {
        "id": "GZdMdYxkx6I5"
      }
    },
    {
      "cell_type": "markdown",
      "source": [
        "Q3)First, we need to calculate the z-scores for the values of $45 and $55, using the formula:\n",
        "\n",
        "z = (X - μ) / (σ / sqrt(n))\n",
        "\n",
        "where X is the value of interest, μ is the population mean, σ is the population standard deviation, and n is the sample size.\n",
        "\n",
        "For X = $45, the z-score is:\n",
        "\n",
        "z = (45 - 50) / (40 / sqrt(100)) z = -5 / 4 z = -1.25\n",
        "\n",
        "For X = $55, the z-score is:\n",
        "\n",
        "z = (55 - 50) / (40 / sqrt(100)) z = 5 / 4 z = 1.25\n",
        "\n",
        "Now, we can find the probability that the mean transaction amount of the sample is between $45 and $55, by calculating the area under the standard normal curve between the two z-scores.\n",
        "\n",
        "P(-1.25 < Z < 1.25) = 0.8944 - 0.1056 = 0.7888\n",
        "\n",
        "The probability that in any given week, there will be an investigation is therefore:\n",
        "\n",
        "1 - 0.7888 = 0.2112\n",
        "\n",
        "Therefore, the answer is (21.1%)."
      ],
      "metadata": {
        "id": "UxyuA4Um2FtO"
      }
    },
    {
      "cell_type": "markdown",
      "source": [
        "Q4)The answer is Not enough information.\n",
        "\n",
        "While we know the desired probability of investigation (5%) and the original sample size (likely 100 based on the previous example), we lack crucial information to determine the minimum sample size needed for the new scenario:\n",
        "\n",
        "Standard Deviation\n",
        "\n",
        "Confidence Level\n",
        "\n",
        "Without these details, we can't definitively calculate the minimum number of transactions needed to maintain a 5% probability of investigation using the same thresholds\n"
      ],
      "metadata": {
        "id": "DDBX6onD3RM3"
      }
    },
    {
      "cell_type": "markdown",
      "source": [
        "Q5)D. The average of the mean across several samples will be 720: This is likely true. The average of the means from multiple samples will tend towards the population mean (720) according to the Law of Large Numbers.\n"
      ],
      "metadata": {
        "id": "rugICAT23Y2u"
      }
    }
  ]
}