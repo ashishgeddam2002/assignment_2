{
  "nbformat": 4,
  "nbformat_minor": 0,
  "metadata": {
    "colab": {
      "provenance": [],
      "authorship_tag": "ABX9TyP3PchTUGjmYUemVC50tt5c",
      "include_colab_link": true
    },
    "kernelspec": {
      "name": "python3",
      "display_name": "Python 3"
    },
    "language_info": {
      "name": "python"
    }
  },
  "cells": [
    {
      "cell_type": "markdown",
      "metadata": {
        "id": "view-in-github",
        "colab_type": "text"
      },
      "source": [
        "<a href=\"https://colab.research.google.com/github/ashishgeddam2002/assignment_2/blob/main/assignment_2(set_3).ipynb\" target=\"_parent\"><img src=\"https://colab.research.google.com/assets/colab-badge.svg\" alt=\"Open In Colab\"/></a>"
      ]
    },
    {
      "cell_type": "markdown",
      "source": [
        "Q1) (a) False.\n",
        "\n",
        "The sample size needed to produce representative results depends on various factors, such as the population size, the degree of variability in the population, and the desired level of precision.\n",
        "\n",
        "(b)False.\n",
        "\n",
        "The sampling frame is a list of the population from which the sample is drawn. It includes all the elements or units that have a chance of being selected for the survey. It does not consist of those who responded to the survey or not.\n",
        "\n",
        "(c)True.\n",
        "\n",
        " Generally, larger surveys tend to provide a more accurate impression of the population than smaller surveys, assuming that both are properly conducted. Larger sample sizes reduce sampling error and increase the precision of estimates."
      ],
      "metadata": {
        "id": "iNhzw98HsJht"
      }
    },
    {
      "cell_type": "markdown",
      "source": [
        "Q2)-Population: All readers of PC Magazine in 2004.\n",
        "\n",
        "-Parameter of interest: The true average satisfaction rating for Kodak compact digital cameras among all PC Magazine readers.\n",
        "\n",
        "-Sampling frame: The list of all subscribers or registered users of PC Magazine in 2004.\n",
        "\n",
        "-Sample size: 225 readers who responded to the survey question about the Kodak camera.\n",
        "\n",
        "-Sampling design: Convenience sampling. The survey was included in the magazine, so whoever happened to read that issue and decided to participate was included in the sample.\n",
        "\n",
        "=Potential sources of bias or other problems with the survey or sample:\n",
        "\n",
        "-Self-selection bias\n",
        "-Response bias\n",
        "-Sampling bias\n",
        "-Scale reliability"
      ],
      "metadata": {
        "id": "qb8m-K7_scB4"
      }
    },
    {
      "cell_type": "markdown",
      "source": [
        "Q3) True. If the 95% confidence interval for the average purchase of customers at a department store is 50 to 110, then 100 is a plausible value for the population mean at this level of confidence.\n",
        "\n",
        "False. If the 95% confidence interval for the number of moviegoers who purchase concessions is 30% to 45%, this does not necessarily mean that fewer than half of all moviegoers purchase concessions.\n",
        "\n",
        "False. The statement is false. The 95% confidence interval for the population mean can still be used even if the sample data are not exactly normally distributed."
      ],
      "metadata": {
        "id": "rAKcvlwztH7H"
      }
    },
    {
      "cell_type": "markdown",
      "source": [
        "Q4) 3/4"
      ],
      "metadata": {
        "id": "iUrUl8JytfpQ"
      }
    },
    {
      "cell_type": "markdown",
      "source": [
        "Q5)(a)NO:For a one-tailed test at the 5% significance level, the critical z-value is approximately -1.645 (assuming a standard normal distribution). Since -0.821 is greater than -1.645, we fail to reject the null hypothesis.\n",
        "\n",
        "Therefore, Microsoft cannot conclude that Mozilla has a less than 5% share of the market based on this sample.\n",
        "\n",
        "(b)YES:Since WebSideStory claims to have data on all daily Internet users, and they report Mozilla's market share as 4.6%, Microsoft can indeed conclude that Mozilla has a less than 5% share of the market, as the reported value is below the threshold of 5%."
      ],
      "metadata": {
        "id": "YdvqfB_-t-Zs"
      }
    },
    {
      "cell_type": "markdown",
      "source": [
        "Q6)The procedure that produced this interval generates ranges that hold the population mean for 95% of samples.\n",
        "\n",
        "True. This interpretation is correct. The 95% confidence interval implies that if we were to take many samples from the same population and compute confidence intervals for each sample, approximately 95% of those intervals would contain the true population mean."
      ],
      "metadata": {
        "id": "UTiDzhKFvCJy"
      }
    },
    {
      "cell_type": "markdown",
      "source": [
        "Q7) The t-interval is shorter\n",
        "\n",
        "When the population standard deviation (σ) is unknown and estimated using the sample standard deviation (s), we typically use the t-distribution instead of the standard normal (z) distribution. The t-distribution has fatter tails compared to the standard normal distribution, which results in wider confidence intervals.\n"
      ],
      "metadata": {
        "id": "CgKFtqicvXkC"
      }
    },
    {
      "cell_type": "markdown",
      "source": [
        "Q8)margin of error = z * sqrt[(p * (1-p)) / n]\n",
        "\n",
        "We want the margin of error to be no more than 4%, so we can set up the following equation:\n",
        "\n",
        "0.04 = 1.96 * sqrt[(0.5 * (1-0.5)) / n]\n",
        "\n",
        "Solving for n, we get:\n",
        "\n",
        "n = (1.96 * sqrt[(0.5 * (1-0.5)) / 0.04])^2\n",
        "\n",
        "n = 600.25\n",
        "\n",
        "therefore we need to contact at least 600 employees."
      ],
      "metadata": {
        "id": "G4itIKcyv5UA"
      }
    },
    {
      "cell_type": "markdown",
      "source": [
        "Q9) For a 98% confidence level and a margin of error of 4%:\n",
        "\n",
        "\n",
        "Z for a 98% confidence level is approximately 2.33.\n",
        "\n",
        "=\n",
        "0.04\n",
        "E=0.04 (4% margin of error)\n",
        "\n",
        "=\n",
        "0.5\n",
        "p=0.5 (maximum variability)\n",
        "Plugging these values into the formula:\n",
        "\n",
        "=\n",
        "2.3\n",
        "3\n",
        "2\n",
        "⋅\n",
        "0.5\n",
        "⋅\n",
        "(\n",
        "1\n",
        "−\n",
        "0.5\n",
        ")\n",
        "0.0\n",
        "4\n",
        "2\n",
        "n=\n",
        "0.04\n",
        "2\n",
        "\n",
        "2.33\n",
        "2\n",
        " ⋅0.5⋅(1−0.5)\n",
        "​\n",
        "\n",
        "\n",
        "=\n",
        "5.4289\n",
        "⋅\n",
        "0.25\n",
        "0.0016\n",
        "n=\n",
        "0.0016\n",
        "5.4289⋅0.25\n",
        "​\n",
        "\n",
        "\n",
        "=\n",
        "1.357225\n",
        "0.0016\n",
        "n=\n",
        "0.0016\n",
        "1.357225\n",
        "​\n",
        "\n",
        "\n",
        "=\n",
        "848.28\n",
        "n=848.28"
      ],
      "metadata": {
        "id": "YnjvTko_wyDs"
      }
    }
  ]
}